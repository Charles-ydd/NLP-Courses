{
 "cells": [
  {
   "cell_type": "markdown",
   "metadata": {},
   "source": [
    "## one-hot 表示"
   ]
  },
  {
   "cell_type": "code",
   "execution_count": 1,
   "metadata": {},
   "outputs": [
    {
     "data": {
      "text/plain": [
       "matrix([[1, 1, 0, 1, 0, 1, 1],\n",
       "        [0, 0, 1, 1, 1, 1, 0]])"
      ]
     },
     "execution_count": 1,
     "metadata": {},
     "output_type": "execute_result"
    }
   ],
   "source": [
    "from sklearn.feature_extraction.text import CountVectorizer\n",
    "\n",
    "# 定义语料库\n",
    "corpus = ['Time flies flies like an arrow.',\n",
    "          'Fruit flies like a banana.']\n",
    "\n",
    "one_hot_vectorizer = CountVectorizer(binary=True)\n",
    "one_hot = one_hot_vectorizer.fit_transform(corpus)\n",
    "# 生成折叠的one-hot向量\n",
    "one_hot.todense()"
   ]
  },
  {
   "cell_type": "markdown",
   "metadata": {},
   "source": [
    "# TF-IDF 表示\n",
    "反文档频率表示，如果“tetrafluoroethylene”这样罕见的词出现的频率较低，但很可能表明专利文件的性质。<br>\n",
    "$IDF(w) = log (N / (n_w + 1))$  <br> $TF(w) = 某文档中某词或字出现的次数/该文档的总字数或总词数$"
   ]
  },
  {
   "cell_type": "code",
   "execution_count": 3,
   "metadata": {},
   "outputs": [
    {
     "data": {
      "text/plain": [
       "matrix([[0.42519636, 0.42519636, 0.        , 0.60506143, 0.        ,\n",
       "         0.30253071, 0.42519636],\n",
       "        [0.        , 0.        , 0.57615236, 0.40993715, 0.57615236,\n",
       "         0.40993715, 0.        ]])"
      ]
     },
     "execution_count": 3,
     "metadata": {},
     "output_type": "execute_result"
    }
   ],
   "source": [
    "from sklearn.feature_extraction.text import TfidfVectorizer\n",
    "\n",
    "tfidf_vectorizer = TfidfVectorizer()\n",
    "tfidf = tfidf_vectorizer.fit_transform(corpus).todense()\n",
    "tfidf"
   ]
  },
  {
   "cell_type": "markdown",
   "metadata": {},
   "source": [
    "# 文本数据增强方法\n",
    "\n"
   ]
  },
  {
   "cell_type": "markdown",
   "metadata": {},
   "source": [
    "## 1. Easy Data Augmentation Techniques for Boosting Performance on Text Classification Tasks(EDA)\n",
    "提出了四种简单的数据增强操作，同义词替换（通过同义词表将句子中的词语进行同义词替换）、随机交换（随机交换句子的两个词语，改变语序）、随机插入（在原始句子中随机插入，句子中某一个词的同义词）和随机删除（随机删除句子中的词语）。\n",
    "1. 同义词替换\n",
    "从句子中随机选择n个不是停止词的单词，再将这些单词用同义词替换。\n",
    "2. 随机插入\n",
    "从句子中随机选择1个不是停止词的单词，在随机的一个位置插入这个同义词，重复操作n次。\n",
    "3. 随机交换\n",
    "随机选择两个单词并交换位置，重复操作n次\n",
    "4. 随机删除\n",
    "以p的概率随机删除句子中的每个词语"
   ]
  },
  {
   "cell_type": "code",
   "execution_count": 4,
   "metadata": {},
   "outputs": [
    {
     "data": {
      "text/plain": [
       "['memphis tenn four clarence day ago jon rahm was enduring the seasons worst weather stipulate on sunday at the open on his way to a closing at royal portrush which considering the wind and the rain was a sizeable show up th first round at the wgc fedex st jude invitational was another story with temperatures in the mid s and just any wind the spaniard was strokes better in a unflawed round thanks to his serious putting performance on the pga tour rahm finished with an under for a trio stroke lead which was regular more impressive considering hed never played the front nine at tpc southwind',\n",
       " 'memphis tenn four days ago jon rahm was enduring closure the seasons worst weather conditions on sunday skilful along at the open on his way to a closing at royal lift atomic number portrush which considering the wind and undetermined the rain was a respectable showing thursdays first round at the wgc fedex st jude invitational was another story with temperatures in the mid s and hardly any wind the spaniard round of golf adenine was strokes better in a flawless round rainfall thanks to his best putting performance on the pga tour rahm finished with some other an under for a three stroke lead which was even more impressive considering hed never played the front nine at tpc southwind',\n",
       " 'memphis tenn four ago jon rahm was enduring the seasons worst weather conditions on sunday at the open on his way to a closing at royal portrush which considering the and the rain was a respectable showing thursdays first round at the fedex st jude invitational was another story temperatures in the mid s and hardly any wind the spaniard was strokes better in round thanks to his best putting on the tour rahm finished with an under for three stroke which was even more impressive considering never played the front nine tpc',\n",
       " 'memphis neer tenn four days ago jon rahm was enduring the seasons worst weather conditions on sunday at the open on his way to a closing at royal portrush which considering skilful the wind and the rain was a respectable showing thursdays first round at the wgc fedex st jude invitational was another thomas more solidus story with temperatures in the mid goodish s and hardly inch any wind the spaniard was strokes better atomic number in a flawless round thanks to his best putting exist performance on the pga tour rahm finished with an under for a three stroke lead which was exhibit even more impressive considering hed never played nether the front nine at tpc southwind',\n",
       " 'memphis tenn four days ago jon rahm was enduring flawless seasons worst weather conditions on sunday performance a open on his way which a closing an royal portrush to considering invitational wind and the rain was the respectable lead thursdays first round at the wgc impressive st jude the was was story with temperatures in the mid s and hardly any wind the spaniard was strokes better in for the round thanks to his best putting at on the pga tour rahm finished with at under a a three stroke showing which another even more fedex considering hed never played the front nine at tpc southwind',\n",
       " 'memphis tenn iv day ago jon rahm was survive the flavor worst weather conditions on sunday at the open on his way to a closing at royal portrush which considering the current of air and the rain was a hefty showing thursdays first round at the wgc fedex st jude invitational was another story with temperatures in the mid s and hardly any current of air the spaniard was strokes undecomposed in a flawless round thanks to his best putting public presentation on the pga tour rahm finished with an under for a three slash lead which was even more impressive considering hed never played the front nine spot at tpc southwind',\n",
       " 'memphis tenn four days ago jon rahm was enduring the seasons worst weather conditions on sunday at the open on his way to a closing at royal portrush which considering the wind and rain was a respectable showing thursdays first round at the wgc st jude invitational was another with temperatures in the mid and hardly any wind spaniard was strokes better a flawless round thanks to his best putting performance on the pga tour rahm finished an under for a three stroke lead which was even more impressive considering hed never played the front nine at tpc southwind',\n",
       " 'memphis tenn quaternion days ago jon rahm was live the seasons worst weather conditions on sunday at the open on his way to a closing at royal portrush which considering the wind and the rain was a respectable showing thursdays first round at the wgc fedex st st jude invitational was another story with temperatures in the mid s and hardly any wind the spaniard was fortuity meliorate in a flawless round thanks to his best putting performance on the pga enlistment rahm finished with an under for a three stroke lead which was even more telling considering hed never roleplay the movement ball club at tpc southwind',\n",
       " 'memphis tenn four impressive ago jon rahm under enduring tour at worst weather conditions on sunday at putting open the his way to a closing seasons royal portrush which considering the wind and the rain was a respectable showing thursdays first round at the wgc fedex st jude story was which invitational with a in the mid s round hardly any wind the spaniard was strokes better in a flawless and thanks to his best the performance on the pga the rahm finished with an was for temperatures three stroke lead another was even more days considering hed never played on front nine at tpc southwind',\n",
       " 'memphis tenn four days ago jon rahm was enduring the seasons worst weather conditions on sunday at the open on his way to a closing at royal portrush which considering the wind and the rain was a respectable showing thursdays first round at the wgc fedex st jude invitational was another story with temperatures in the mid s and hardly any wind the spaniard was strokes better in a flawless round thanks to his best putting performance on the pga tour rahm finished with an under for a three stroke lead which was even more impressive considering hed never played the front nine at tpc southwind ']"
      ]
     },
     "execution_count": 4,
     "metadata": {},
     "output_type": "execute_result"
    }
   ],
   "source": [
    "# code in eda.py\n",
    "from eda import eda\n",
    "\n",
    "\n",
    "ex_text_str = \"MEMPHIS, Tenn. – Four days ago, Jon Rahm was \\\n",
    "    enduring the season’s worst weather conditions on Sunday at The \\\n",
    "    Open on his way to a closing 75 at Royal Portrush, which \\\n",
    "    considering the wind and the rain was a respectable showing. \\\n",
    "    Thursday’s first round at the WGC-FedEx St. Jude Invitational \\\n",
    "    was another story. With temperatures in the mid-80s and hardly any \\\n",
    "    wind, the Spaniard was 13 strokes better in a flawless round. \\\n",
    "    Thanks to his best putting performance on the PGA Tour, Rahm \\\n",
    "    finished with an 8-under 62 for a three-stroke lead, which \\\n",
    "    was even more impressive considering he’d never played the \\\n",
    "    front nine at TPC Southwind.\"\n",
    "\n",
    "\n",
    "# Output is a list of augmented sentences\n",
    "eda(ex_text_str)"
   ]
  },
  {
   "cell_type": "markdown",
   "metadata": {},
   "source": [
    "## 2. AEDA Augmentation\n",
    "主要是在原始文本中随机插入一些标点符号，该方法只适用于文本分类任务<br>\n",
    "1. 从1到 $1/3$的句子长度中，随机选择一个数作为插入标点符号的个数，既想每个句子中有标点符号插入，增加句子的复杂性；又不想加入太多标点符号，过于干扰句子的语义信息，并且太多噪声对模型可能有负面影响。\n",
    "2. 主要有6种，“.”、“;”、“?”、“:”、“!”、“,”\n"
   ]
  },
  {
   "cell_type": "code",
   "execution_count": 5,
   "metadata": {},
   "outputs": [
    {
     "name": "stdout",
     "output_type": "stream",
     "text": [
      "MEMPHIS, Tenn. – Four days ago, Jon Rahm was     enduring the season’s worst weather conditions on Sunday at The     Open on his way to a closing 75 at Royal Portrush, which     considering the wind and the rain was a respectable showing.     Thursday’s first round at the WGC-FedEx St. Jude Invitational     was another story. With temperatures in the mid-80s and hardly any     wind, the Spaniard was 13 strokes better in a flawless round.     Thanks to his best putting performance on the PGA Tour, Rahm     finished with an 8-under 62 for a three-stroke lead, which     was even more impressive considering he’d never played the     front nine at TPC Southwind.\n"
     ]
    },
    {
     "data": {
      "text/plain": [
       "'MEMPHIS, Tenn. – Four days ago, Jon Rahm was  ;    enduring the season’s worst weather . conditions on Sunday at The  !  ?   Open on his way to a closing 75 ! at Royal ; Portrush, which    :  considering the wind and the rain was a respectable showing.   ,   Thursday’s first round ; at the WGC-FedEx St. ? Jude Invitational ?     was another ; story. With temperatures in the ! mid-80s and . hardly any     wind, the ; Spaniard was 13 strokes . better in a flawless round.     Thanks to his . best putting performance on : the ? PGA Tour, Rahm     : finished with an 8-under 62 for a : three-stroke lead, : which     . was ; even more impressive considering he’d ? never played the     front nine at TPC Southwind.'"
      ]
     },
     "execution_count": 5,
     "metadata": {},
     "output_type": "execute_result"
    }
   ],
   "source": [
    "# Code: https://github.com/akkarimi/aeda_nlp/blob/master/code/aeda.py\n",
    "\n",
    "# Insert punction words into a given sentence with the given ratio \"punc_ratio\"\n",
    "import random\n",
    "\n",
    "random.seed(0)\n",
    "\n",
    "# all punctuations\n",
    "PUNCTUATIONS = ['.', ',', '!', '?', ';', ':']\n",
    "PUNC_RATIO = 0.3\n",
    "\n",
    "def insert_punctuation_marks(sentence, punc_ratio=0.3):\n",
    "    words = sentence.split(' ') # split string into words\n",
    "    new_line = []\n",
    "    # insert range\n",
    "    q = random.randint(1, int(punc_ratio * len(words) + 1))\n",
    "    qs = random.sample(range(0, len(words)), q)\n",
    "\n",
    "    for j, word in enumerate(words):\n",
    "        if j in qs:\n",
    "            new_line.append(PUNCTUATIONS[random.randint(0, len(PUNCTUATIONS) - 1)])\n",
    "            new_line.append(word)\n",
    "        else:\n",
    "            new_line.append(word)\n",
    "    # The string whose method is called is inserted in between each given string. The result is returned as a new string.\n",
    "    new_line = ' '.join(new_line)\n",
    "    return new_line\n",
    "\n",
    "\n",
    "ex_text_str = \"MEMPHIS, Tenn. – Four days ago, Jon Rahm was \\\n",
    "    enduring the season’s worst weather conditions on Sunday at The \\\n",
    "    Open on his way to a closing 75 at Royal Portrush, which \\\n",
    "    considering the wind and the rain was a respectable showing. \\\n",
    "    Thursday’s first round at the WGC-FedEx St. Jude Invitational \\\n",
    "    was another story. With temperatures in the mid-80s and hardly any \\\n",
    "    wind, the Spaniard was 13 strokes better in a flawless round. \\\n",
    "    Thanks to his best putting performance on the PGA Tour, Rahm \\\n",
    "    finished with an 8-under 62 for a three-stroke lead, which \\\n",
    "    was even more impressive considering he’d never played the \\\n",
    "    front nine at TPC Southwind.\"\n",
    "print(ex_text_str)\n",
    "insert_punctuation_marks(ex_text_str)"
   ]
  },
  {
   "cell_type": "markdown",
   "metadata": {},
   "source": [
    "##  3. NLPAug工具包\n",
    "在这里主要使用一下基于字符的工具"
   ]
  },
  {
   "cell_type": "code",
   "execution_count": null,
   "metadata": {},
   "outputs": [
    {
     "name": "stderr",
     "output_type": "stream",
     "text": [
      "/home/dyd/anaconda3/envs/vault/lib/python3.10/site-packages/lazy_loader/__init__.py:185: RuntimeWarning: subpackages can technically be lazily loaded, but it causes the package to be eagerly loaded even if it is already lazily loaded.So, you probably shouldn't use subpackages with this lazy feature.\n",
      "  warnings.warn(msg, RuntimeWarning)\n",
      "/home/dyd/anaconda3/envs/vault/lib/python3.10/site-packages/tqdm/auto.py:21: TqdmWarning: IProgress not found. Please update jupyter and ipywidgets. See https://ipywidgets.readthedocs.io/en/stable/user_install.html\n",
      "  from .autonotebook import tqdm as notebook_tqdm\n"
     ]
    }
   ],
   "source": [
    "import nlpaug.augmenter.char as nac\n",
    "import nlpaug.augmenter.word as naw\n",
    "import nlpaug.augmenter.sentence as nas"
   ]
  },
  {
   "cell_type": "code",
   "execution_count": 3,
   "metadata": {},
   "outputs": [
    {
     "name": "stdout",
     "output_type": "stream",
     "text": [
      "The quick brown fox jumps over the lazy dog .\n"
     ]
    }
   ],
   "source": [
    "text = 'The quick brown fox jumps over the lazy dog .'\n",
    "print(text)"
   ]
  },
  {
   "cell_type": "markdown",
   "metadata": {},
   "source": [
    "### 1 Input and 1 Output"
   ]
  },
  {
   "cell_type": "code",
   "execution_count": 4,
   "metadata": {},
   "outputs": [
    {
     "name": "stdout",
     "output_type": "stream",
     "text": [
      "Original: The quick brown fox jumps over the lazy dog .\n",
      "Augmented Text: The qjisk brown fox juHLs kv4r the lazy dog.\n"
     ]
    }
   ],
   "source": [
    "aug = nac.KeyboardAug()\n",
    "augmentend_text = aug.augment(text)\n",
    "print(\"Original:\", text)\n",
    "print(\"Augmented Text:\", augmentend_text[0])"
   ]
  },
  {
   "cell_type": "markdown",
   "metadata": {},
   "source": [
    "### 1 input N output"
   ]
  },
  {
   "cell_type": "code",
   "execution_count": 5,
   "metadata": {},
   "outputs": [
    {
     "name": "stdout",
     "output_type": "stream",
     "text": [
      "Original:\n",
      "The quick brown fox jumps over the lazy dog .\n",
      "Augmented Text:\n",
      "['The quick vrowm fox <umpA over the laxu dog.', 'The WuicO brown fox nuKps oce4 the lazy dog.']\n"
     ]
    }
   ],
   "source": [
    "aug = nac.KeyboardAug()\n",
    "# Parameter n=2\n",
    "augmented_text = aug.augment(text, n=2)\n",
    "print(\"Original:\")\n",
    "print(text)\n",
    "print(\"Augmented Text:\")\n",
    "print(augmented_text)"
   ]
  },
  {
   "cell_type": "markdown",
   "metadata": {},
   "source": [
    "### N input and N Output"
   ]
  },
  {
   "cell_type": "code",
   "execution_count": 6,
   "metadata": {},
   "outputs": [
    {
     "name": "stdout",
     "output_type": "stream",
     "text": [
      "Original:\n",
      "['The quick brown fox jumps over the lazy dog .', 'It is proved that augmentation is one of the anchor to success of computer vision model.']\n",
      "Augmented Text:\n",
      "['The qIicL frlwn fox numpa over the lazy dog.', 'It is pdofed tga6 aunmeb^atioj is one of the anDhoG to success of computer v7si0n moXe:.']\n"
     ]
    }
   ],
   "source": [
    "texts = [\n",
    "    'The quick brown fox jumps over the lazy dog .',\n",
    "    'It is proved that augmentation is one of the anchor to success of computer vision model.'\n",
    "]\n",
    "\n",
    "aug = nac.KeyboardAug()\n",
    "augmented_text = aug.augment(texts)\n",
    "print(\"Original:\")\n",
    "print(texts)\n",
    "print(\"Augmented Text:\")\n",
    "print(augmented_text)"
   ]
  },
  {
   "cell_type": "markdown",
   "metadata": {},
   "source": [
    "## Referance"
   ]
  },
  {
   "cell_type": "markdown",
   "metadata": {},
   "source": [
    "1. [文本增强方法总结](https://blog.csdn.net/Flying_sfeng/article/details/121691380)\n",
    "2. [NLPAug文档](https://github.com/makcedward/nlpaug)\n",
    "3. [NLPAug使用 Notebook](https://github.com/makcedward/nlpaug/blob/master/example/textual_augmenter.ipynb)"
   ]
  }
 ],
 "metadata": {
  "kernelspec": {
   "display_name": "vault",
   "language": "python",
   "name": "python3"
  },
  "language_info": {
   "codemirror_mode": {
    "name": "ipython",
    "version": 3
   },
   "file_extension": ".py",
   "mimetype": "text/x-python",
   "name": "python",
   "nbconvert_exporter": "python",
   "pygments_lexer": "ipython3",
   "version": "3.10.12"
  },
  "orig_nbformat": 4
 },
 "nbformat": 4,
 "nbformat_minor": 2
}
