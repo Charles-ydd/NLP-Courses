{
 "cells": [
  {
   "cell_type": "code",
   "execution_count": 5,
   "metadata": {},
   "outputs": [
    {
     "data": {
      "text/plain": [
       "'[{\"url\":\"https://api.github.com/repos/huggingface/datasets/issues/6230\",\"repository_url\":\"https://api.github.com/repos/huggingface/datasets\",\"labels_url\":\"https://api.github.com/repos/huggingface/datasets/issues/6230/labels{/name}\",\"comments_url\":\"https://api.github.com/repos/huggingface/datasets/issues/6230/comments\",\"events_url\":\"https://api.github.com/repos/huggingface/datasets/issues/6230/events\",\"html_url\":\"https://github.com/huggingface/datasets/pull/6230\",\"id\":1890521006,\"node_id\":\"PR_kwDODunzps5aBh6L\",\"number\":6230,\"title\":\"Don\\'t skip hidden files in `dl_manager.iter_files` when they are given as input\",\"user\":{\"login\":\"mariosasko\",\"id\":47462742,\"node_id\":\"MDQ6VXNlcjQ3NDYyNzQy\",\"avatar_url\":\"https://avatars.githubusercontent.com/u/47462742?v=4\",\"gravatar_id\":\"\",\"url\":\"https://api.github.com/users/mariosasko\",\"html_url\":\"https://github.com/mariosasko\",\"followers_url\":\"https://api.github.com/users/mariosasko/followers\",\"following_url\":\"https://api.github.com/users/mariosasko/following{/other_user}\",\"gists_url\":\"https://api.github.com/users/mariosasko/gists{/gist_id}\",\"starred_url\":\"https://api.github.com/users/mariosasko/starred{/owner}{/repo}\",\"subscriptions_url\":\"https://api.github.com/users/mariosasko/subscriptions\",\"organizations_url\":\"https://api.github.com/users/mariosasko/orgs\",\"repos_url\":\"https://api.github.com/users/mariosasko/repos\",\"events_url\":\"https://api.github.com/users/mariosasko/events{/privacy}\",\"received_events_url\":\"https://api.github.com/users/mariosasko/received_events\",\"type\":\"User\",\"site_admin\":false},\"labels\":[],\"state\":\"open\",\"locked\":false,\"assignee\":null,\"assignees\":[],\"milestone\":null,\"comments\":2,\"created_at\":\"2023-09-11T13:29:19Z\",\"updated_at\":\"2023-09-11T13:35:09Z\",\"closed_at\":null,\"author_association\":\"CONTRIBUTOR\",\"active_lock_reason\":null,\"draft\":false,\"pull_request\":{\"url\":\"https://api.github.com/repos/huggingface/datasets/pulls/6230\",\"html_url\":\"https://github.com/huggingface/datasets/pull/6230\",\"diff_url\":\"https://github.com/huggingface/datasets/pull/6230.diff\",\"patch_url\":\"https://github.com/huggingface/datasets/pull/6230.patch\",\"merged_at\":null},\"body\":\"Required for `load_dataset(<format>, data_files=[\\\\\"path/to/.hidden_file\\\\\"])` to work as expected\",\"reactions\":{\"url\":\"https://api.github.com/repos/huggingface/datasets/issues/6230/reactions\",\"total_count\":0,\"+1\":0,\"-1\":0,\"laugh\":0,\"hooray\":0,\"confused\":0,\"heart\":0,\"rocket\":0,\"eyes\":0},\"timeline_url\":\"https://api.github.com/repos/huggingface/datasets/issues/6230/timeline\",\"performed_via_github_app\":null,\"state_reason\":null}]'"
      ]
     },
     "execution_count": 5,
     "metadata": {},
     "output_type": "execute_result"
    }
   ],
   "source": [
    "import requests\n",
    "\n",
    "url = \"https://api.github.com/repos/huggingface/datasets/issues?page=1&per_page=1\"\n",
    "response = requests.get(url)\n",
    "response.text"
   ]
  }
 ],
 "metadata": {
  "kernelspec": {
   "display_name": "vault",
   "language": "python",
   "name": "python3"
  },
  "language_info": {
   "codemirror_mode": {
    "name": "ipython",
    "version": 3
   },
   "file_extension": ".py",
   "mimetype": "text/x-python",
   "name": "python",
   "nbconvert_exporter": "python",
   "pygments_lexer": "ipython3",
   "version": "3.10.12"
  },
  "orig_nbformat": 4
 },
 "nbformat": 4,
 "nbformat_minor": 2
}
